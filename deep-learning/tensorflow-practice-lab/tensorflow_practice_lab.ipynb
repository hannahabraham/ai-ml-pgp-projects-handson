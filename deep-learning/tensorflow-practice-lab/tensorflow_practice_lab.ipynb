{
 "cells": [
  {
   "cell_type": "code",
   "execution_count": 39,
   "id": "90780996-9fdf-4246-a0ea-1e867e4bfc60",
   "metadata": {},
   "outputs": [
    {
     "data": {
      "text/plain": [
       "'2.18.0'"
      ]
     },
     "execution_count": 39,
     "metadata": {},
     "output_type": "execute_result"
    }
   ],
   "source": [
    "tf.__version__"
   ]
  },
  {
   "cell_type": "markdown",
   "id": "8b7ca9b7-7be0-4b5e-b3ea-4c87b2a02dbd",
   "metadata": {},
   "source": [
    "# 1. Tensors of different ranks"
   ]
  },
  {
   "cell_type": "code",
   "execution_count": 23,
   "id": "67767b64-ff15-4f33-8570-866ecef40329",
   "metadata": {},
   "outputs": [
    {
     "name": "stdout",
     "output_type": "stream",
     "text": [
      "Shapes:  (5,) (5,)\n"
     ]
    }
   ],
   "source": [
    "\"\"\" A vector is a one dimensional vector\"\"\"\n",
    "\n",
    "# Vector in TensorFlow\n",
    "vector_tf = tf.constant([0,1,2,3,4])\n",
    "\n",
    "# Vector in Numpy\n",
    "vector_np = np.array([0,1,2,3,4])\n",
    "\n",
    "print(\"Shapes: \",vector_tf.shape,vector_np.shape)"
   ]
  },
  {
   "cell_type": "code",
   "execution_count": 31,
   "id": "a65d4cfd-f918-442e-980d-c1f4b5e6c304",
   "metadata": {},
   "outputs": [
    {
     "name": "stdout",
     "output_type": "stream",
     "text": [
      "Shapes: (3, 2) (3, 2)\n"
     ]
    }
   ],
   "source": [
    "\"\"\"A matrix is a two dimensional vector \"\"\"\n",
    "\n",
    "# Matrix in Tensorflow\n",
    "matrix_tf = tf.constant([[1,2],[3,4],[5,6]])\n",
    "\n",
    "# Matrix in Numpy\n",
    "matrix_np = np.array([[1,2],[3,4],[5,6]])\n",
    "\n",
    "print(\"Shapes:\", matrix_tf.shape, matrix_np.shape)"
   ]
  },
  {
   "cell_type": "code",
   "execution_count": 35,
   "id": "a0a2bede-929d-4549-9cb0-df6c9a068468",
   "metadata": {},
   "outputs": [
    {
     "name": "stdout",
     "output_type": "stream",
     "text": [
      "Shapes: (5, 3, 2) (5, 3, 2)\n"
     ]
    }
   ],
   "source": [
    "\"\"\" 3-D Tensor \"\"\"\n",
    "\n",
    "# 3-D Tensor in Tensorflow\n",
    "t3_tf = tf.constant([[[1,2],[2,3],[3,4]]] *5)\n",
    "\n",
    "# 3-D Tensor in Numpy\n",
    "t3_np = np.array([[[1,2],[2,3],[3,4]]]*5)\n",
    "\n",
    "print(\"Shapes:\",t3_tf.shape,t3_np.shape)"
   ]
  },
  {
   "cell_type": "code",
   "execution_count": 37,
   "id": "1116ac3c-8f12-4f4f-8023-777fb216b7d7",
   "metadata": {},
   "outputs": [
    {
     "name": "stdout",
     "output_type": "stream",
     "text": [
      "tf.Tensor(\n",
      "[[[1 2]\n",
      "  [2 3]\n",
      "  [3 4]]\n",
      "\n",
      " [[1 2]\n",
      "  [2 3]\n",
      "  [3 4]]\n",
      "\n",
      " [[1 2]\n",
      "  [2 3]\n",
      "  [3 4]]\n",
      "\n",
      " [[1 2]\n",
      "  [2 3]\n",
      "  [3 4]]\n",
      "\n",
      " [[1 2]\n",
      "  [2 3]\n",
      "  [3 4]]], shape=(5, 3, 2), dtype=int32)\n"
     ]
    }
   ],
   "source": [
    "print(t3_tf)"
   ]
  },
  {
   "cell_type": "markdown",
   "id": "8a1e1c59-b2a8-4650-9063-0a6ae0d0ec8b",
   "metadata": {},
   "source": [
    "# 2. Declaring a Tensor"
   ]
  },
  {
   "cell_type": "code",
   "execution_count": null,
   "id": "1fd2bcd5-e7fd-43a1-b0db-3bbfcf8837cb",
   "metadata": {},
   "outputs": [],
   "source": [
    "# Tensor constant\n",
    "tf_const = tf.constant([[1,2,3],[4,5,6]])\n",
    "# Tensor variable\n",
    "tf_variable = tf.Variable([[1,2,3],[4,5,6]])"
   ]
  },
  {
   "cell_type": "code",
   "execution_count": null,
   "id": "e92161cf-0327-492c-ab9b-7345dd9d3934",
   "metadata": {},
   "outputs": [],
   "source": [
    "# tf.constant - values cannot be changed once assigned,It must be initialised with a value, deriavtes are not calculated\n",
    "x= tf.constant([1,2])\n",
    "#x= x.assign([3,4]) # raises exception"
   ]
  },
  {
   "cell_type": "code",
   "execution_count": null,
   "id": "92fb48d9-ceb1-4be7-bded-16c2e91e3ff9",
   "metadata": {},
   "outputs": [],
   "source": [
    "# tf.Variable - values can be changed by an operation or tf.assign,\n",
    "y = tf.Variable([1,2])\n",
    "y=y.assign_add([1,1])\n",
    "y\n",
    "y=y.assign([7,8])\n",
    "y"
   ]
  },
  {
   "cell_type": "code",
   "execution_count": 48,
   "id": "adfb077b-7e38-474f-9312-d65a3cbd7a64",
   "metadata": {},
   "outputs": [
    {
     "name": "stdout",
     "output_type": "stream",
     "text": [
      "Int tensor  <tf.Variable 'Variable:0' shape=(3, 3) dtype=int32, numpy=\n",
      "array([[1, 2, 3],\n",
      "       [3, 4, 5],\n",
      "       [4, 5, 6]])>\n",
      "Float tensor  <tf.Variable 'Variable:0' shape=(3, 3) dtype=float32, numpy=\n",
      "array([[1., 2., 3.],\n",
      "       [3., 4., 5.],\n",
      "       [4., 5., 6.]], dtype=float32)>\n",
      "Boolean tensor  <tf.Variable 'Variable:0' shape=(3,) dtype=bool, numpy=array([ True, False,  True])>\n"
     ]
    }
   ],
   "source": [
    "# Declaring tensors with specific datatypes\n",
    "int32_tensor = tf.Variable([[1,2,3],[3,4,5],[4,5,6]],dtype=tf.int32)\n",
    "float32_tensor = tf.Variable([[1,2,3],[3,4,5],[4,5,6]],dtype=tf.float32)\n",
    "bool_tensor = tf.Variable([True, False, True],dtype=tf.bool)\n",
    "\n",
    "print(\"Int tensor \",int32_tensor)\n",
    "print(\"Float tensor \",float32_tensor)\n",
    "print(\"Boolean tensor \",bool_tensor)"
   ]
  },
  {
   "cell_type": "code",
   "execution_count": 52,
   "id": "3fe61318-e9ca-48f0-914a-4214c2f95b5a",
   "metadata": {},
   "outputs": [
    {
     "data": {
      "text/plain": [
       "array([[1, 2, 3],\n",
       "       [3, 4, 5],\n",
       "       [4, 5, 6]])"
      ]
     },
     "execution_count": 52,
     "metadata": {},
     "output_type": "execute_result"
    }
   ],
   "source": [
    "int32_tensor.numpy()"
   ]
  },
  {
   "cell_type": "code",
   "execution_count": 56,
   "id": "0777db00-c31a-4e41-aca5-4b9aeedf5b1c",
   "metadata": {},
   "outputs": [
    {
     "name": "stdout",
     "output_type": "stream",
     "text": [
      "(2, 2, 2, 2)\n",
      "[[[[ 1.44342753  0.63932183]\n",
      "   [-1.92072604  1.30162577]]\n",
      "\n",
      "  [[ 1.20843999  1.33508126]\n",
      "   [-1.96829004  0.26878499]]]\n",
      "\n",
      "\n",
      " [[[ 0.39870035  0.28302356]\n",
      "   [-0.98641936  1.07375872]]\n",
      "\n",
      "  [[-0.59998849  1.12242058]\n",
      "   [ 1.35009788  1.15795856]]]]\n"
     ]
    }
   ],
   "source": [
    "### Question:Declare a tensor of shape (2, 2, 2, 2) with random numbers from a normal distribution whose mean and standard deviation are both 1.\n",
    "arr = np.random.randn(2,2,2,2) # return random numbers from standard normal deviation std=1 mean =0\n",
    "print(arr.shape)\n",
    "print(arr)"
   ]
  },
  {
   "cell_type": "code",
   "execution_count": 58,
   "id": "dbf69720-dec7-47ba-91c5-9210a3ae6803",
   "metadata": {},
   "outputs": [],
   "source": [
    "arr = arr+1 # Adding 1 to standard normal deviation to make mean 1"
   ]
  },
  {
   "cell_type": "code",
   "execution_count": 62,
   "id": "1eb4b52b-8a51-49c2-8e1e-7e1bdb16d914",
   "metadata": {},
   "outputs": [
    {
     "name": "stdout",
     "output_type": "stream",
     "text": [
      "tf.Tensor(\n",
      "[[[[ 2.44342753  1.63932183]\n",
      "   [-0.92072604  2.30162577]]\n",
      "\n",
      "  [[ 2.20843999  2.33508126]\n",
      "   [-0.96829004  1.26878499]]]\n",
      "\n",
      "\n",
      " [[[ 1.39870035  1.28302356]\n",
      "   [ 0.01358064  2.07375872]]\n",
      "\n",
      "  [[ 0.40001151  2.12242058]\n",
      "   [ 2.35009788  2.15795856]]]], shape=(2, 2, 2, 2), dtype=float64)\n"
     ]
    }
   ],
   "source": [
    "arr_tf = tf.constant(arr)\n",
    "print(arr_tf)"
   ]
  },
  {
   "cell_type": "code",
   "execution_count": 66,
   "id": "d6ba6d0c-74f2-40b6-a6ba-8f1180aeefbf",
   "metadata": {},
   "outputs": [
    {
     "name": "stdout",
     "output_type": "stream",
     "text": [
      "tf.Tensor(\n",
      "[[[[ 0.986637    2.08403   ]\n",
      "   [ 0.68057406  1.2816325 ]]\n",
      "\n",
      "  [[ 0.89850014 -0.3311442 ]\n",
      "   [ 1.8719803   0.68684256]]]\n",
      "\n",
      "\n",
      " [[[ 1.3933566   1.4756823 ]\n",
      "   [ 2.3903937   1.2133412 ]]\n",
      "\n",
      "  [[ 2.501292    0.47168297]\n",
      "   [-0.16036129  0.08113462]]]], shape=(2, 2, 2, 2), dtype=float32)\n"
     ]
    }
   ],
   "source": [
    "# Approah 2 Using random generating function from tensorflow\n",
    "arr2_tf = tf.random.normal((2,2,2,2), mean =1 ,stddev=1, name =\"my_tensor\")\n",
    "print(arr2_tf)\n"
   ]
  },
  {
   "cell_type": "markdown",
   "id": "75638c8c-dc4a-4ed1-b518-d40d2a9e0eec",
   "metadata": {},
   "source": [
    "# 3. Common Mathematical Operation on Tensors"
   ]
  },
  {
   "cell_type": "code",
   "execution_count": 74,
   "id": "76f07076-11cd-4971-b405-80c179c8e510",
   "metadata": {},
   "outputs": [
    {
     "name": "stdout",
     "output_type": "stream",
     "text": [
      "<tf.Variable 'Variable:0' shape=(5, 5) dtype=int32, numpy=\n",
      "array([[0, 1, 2, 3, 4],\n",
      "       [0, 1, 2, 3, 4],\n",
      "       [0, 1, 2, 3, 4],\n",
      "       [0, 1, 2, 3, 4],\n",
      "       [0, 1, 2, 3, 4]])>\n",
      "<tf.Variable 'Variable:0' shape=(5, 5) dtype=int32, numpy=\n",
      "array([[5, 6, 7, 8, 9],\n",
      "       [5, 6, 7, 8, 9],\n",
      "       [5, 6, 7, 8, 9],\n",
      "       [5, 6, 7, 8, 9],\n",
      "       [5, 6, 7, 8, 9]])>\n"
     ]
    }
   ],
   "source": [
    "x = tf.Variable([list(range(5))]*5)\n",
    "y = tf.Variable([list(range(5,10))]*5)\n",
    "print(x)\n",
    "print(y)"
   ]
  },
  {
   "cell_type": "code",
   "execution_count": 76,
   "id": "0ef96384-7566-4358-86de-cc37f6465b73",
   "metadata": {},
   "outputs": [
    {
     "name": "stdout",
     "output_type": "stream",
     "text": [
      "tf.Tensor(\n",
      "[[ 5  7  9 11 13]\n",
      " [ 5  7  9 11 13]\n",
      " [ 5  7  9 11 13]\n",
      " [ 5  7  9 11 13]\n",
      " [ 5  7  9 11 13]], shape=(5, 5), dtype=int32)\n"
     ]
    }
   ],
   "source": [
    "\"\"\"Simple mathematical operations on tensors\"\"\"\n",
    "z= x+y\n",
    "print(z)"
   ]
  },
  {
   "cell_type": "code",
   "execution_count": 78,
   "id": "d1a31093-b79f-461e-bd21-7eded28b1ca7",
   "metadata": {},
   "outputs": [
    {
     "name": "stdout",
     "output_type": "stream",
     "text": [
      "tf.Tensor(\n",
      "[[ 0  6 14 24 36]\n",
      " [ 0  6 14 24 36]\n",
      " [ 0  6 14 24 36]\n",
      " [ 0  6 14 24 36]\n",
      " [ 0  6 14 24 36]], shape=(5, 5), dtype=int32)\n"
     ]
    }
   ],
   "source": [
    "v =x*y\n",
    "print(v)"
   ]
  },
  {
   "cell_type": "code",
   "execution_count": 80,
   "id": "2096dabb-0264-4ebb-8fbb-7cff4858ad48",
   "metadata": {},
   "outputs": [
    {
     "name": "stdout",
     "output_type": "stream",
     "text": [
      "tf.Tensor(\n",
      "[[       inf 6.         3.5        2.66666667 2.25      ]\n",
      " [       inf 6.         3.5        2.66666667 2.25      ]\n",
      " [       inf 6.         3.5        2.66666667 2.25      ]\n",
      " [       inf 6.         3.5        2.66666667 2.25      ]\n",
      " [       inf 6.         3.5        2.66666667 2.25      ]], shape=(5, 5), dtype=float64)\n"
     ]
    }
   ],
   "source": [
    "w = y/x\n",
    "print(w)"
   ]
  },
  {
   "cell_type": "code",
   "execution_count": 82,
   "id": "ea8caa34-2c06-4625-9cc4-e164fc963d68",
   "metadata": {},
   "outputs": [],
   "source": [
    "z=tf.add(x,y)\n",
    "v=tf.multiply(x,y)\n",
    "w=tf.divide(y,x)"
   ]
  },
  {
   "cell_type": "code",
   "execution_count": 94,
   "id": "0b7729e3-c6b3-4a94-8807-b285eebd8074",
   "metadata": {},
   "outputs": [
    {
     "name": "stdout",
     "output_type": "stream",
     "text": [
      "Orginal tensor [[5 7]\n",
      " [1 1]]\n",
      "Squared tensor [[25 49]\n",
      " [ 1  1]]\n"
     ]
    }
   ],
   "source": [
    "# Initialise a 2-by-2 tensor with all integer values and then create another tensor by squaring all the elements in the first tensor.\n",
    "a = tf.random.uniform((2,2),minval=1, maxval=10,dtype=tf.int32)\n",
    "print(\"Orginal tensor\",a.numpy())\n",
    "s= tf.pow(a,2) # s=  tf.multiple(a,a)\n",
    "print(\"Squared tensor\",s.numpy()) \n"
   ]
  },
  {
   "cell_type": "markdown",
   "id": "b924dece-7228-4a8d-9888-5d44c3e5554a",
   "metadata": {},
   "source": [
    "# 4. Linear Algebra on Tensors"
   ]
  },
  {
   "cell_type": "code",
   "execution_count": 103,
   "id": "cbcb13c4-eb64-4dd3-900c-b5abdf68b591",
   "metadata": {},
   "outputs": [
    {
     "name": "stdout",
     "output_type": "stream",
     "text": [
      "[[ 135  150  165]\n",
      " [ 310  350  390]\n",
      " [ 485  550  615]\n",
      " [ 660  750  840]\n",
      " [ 835  950 1065]]\n"
     ]
    }
   ],
   "source": [
    "x = tf.Variable([[1,2,3,4,5],[6,7,8,9,10],[11,12,13,14,15],[16,17,18,19,20],[21,22,23,24,25]])\n",
    "y= tf.Variable([[1,2,3],[4,5,6],[7,8,9],[10,11,12],[13,14,15]])\n",
    "z = tf.linalg.matmul(x,y)\n",
    "print(z.numpy())"
   ]
  },
  {
   "cell_type": "code",
   "execution_count": 107,
   "id": "1dc1d54d-15fe-432e-9ce4-ce81c1f85745",
   "metadata": {},
   "outputs": [
    {
     "name": "stdout",
     "output_type": "stream",
     "text": [
      "[[ 1.  2.  3.  4.  5.]\n",
      " [ 6.  7.  8.  9. 10.]\n",
      " [11. 12. 13. 14. 15.]\n",
      " [16. 17. 18. 19. 20.]\n",
      " [21. 22. 23. 24. 25.]]\n"
     ]
    }
   ],
   "source": [
    "x =tf.cast(x,tf.float32)\n",
    "print(x.numpy())"
   ]
  },
  {
   "cell_type": "code",
   "execution_count": 111,
   "id": "d946aaf5-7c57-4b70-b481-cddc1cc42417",
   "metadata": {},
   "outputs": [
    {
     "name": "stdout",
     "output_type": "stream",
     "text": [
      "[[ -139809.53  -559241.1   1048576.     139810.1   -489335.72]\n",
      " [-6116693.5   9087660.          0.   -2796203.2   -174762.8 ]\n",
      " [ 6361360.5  -8108989.5  -2097152.    3075823.5    768956.1 ]\n",
      " [ 6186597.5  -8808039.          0.    1677721.9    943718.56]\n",
      " [-6291455.    8388609.    1048576.   -2097152.2  -1048576.2 ]]\n"
     ]
    }
   ],
   "source": [
    "z = tf.linalg.inv(x)\n",
    "print(z.numpy())"
   ]
  },
  {
   "cell_type": "code",
   "execution_count": 121,
   "id": "d4669b8d-8c89-4417-8b95-78be2cdac183",
   "metadata": {},
   "outputs": [
    {
     "name": "stdout",
     "output_type": "stream",
     "text": [
      "[[-9.09375  -8.8125   -9.53125  -9.25     -9.96875 ]\n",
      " [-4.234375 -3.53125  -2.328125  0.875    -1.921875]\n",
      " [ 6.625     2.75      2.875     3.       -0.875   ]\n",
      " [ 5.8125    4.375    -1.0625   -0.5      -3.9375  ]\n",
      " [-1.25      0.5       2.25      2.        1.75    ]]\n"
     ]
    }
   ],
   "source": [
    "t = tf.linalg.matmul(z,x)\n",
    "print(t.numpy())"
   ]
  },
  {
   "cell_type": "code",
   "execution_count": 119,
   "id": "b8785d81-78c6-4bce-b8e7-ef9db3bde529",
   "metadata": {},
   "outputs": [
    {
     "data": {
      "text/plain": [
       "'Solve the following system of linear equations using TensorFlow:\\n\\nx + y + z + w = 13\\n\\n2x + 3y − w = −1\\n\\n−3x + 4y + z + 2w = 10\\n\\nx + 2y − z + w = 1\\n\\nAns: x = 2, y = 0, z = 6 , w = 5'"
      ]
     },
     "execution_count": 119,
     "metadata": {},
     "output_type": "execute_result"
    }
   ],
   "source": [
    "\"\"\"Solve the following system of linear equations using TensorFlow:\n",
    "\n",
    "x + y + z + w = 13\n",
    "\n",
    "2x + 3y − w = −1\n",
    "\n",
    "−3x + 4y + z + 2w = 10\n",
    "\n",
    "x + 2y − z + w = 1\n",
    "\n",
    "Ans: x = 2, y = 0, z = 6 , w = 5\"\"\""
   ]
  },
  {
   "cell_type": "code",
   "execution_count": 127,
   "id": "e971fbb2-c737-4613-bf62-d9bc7c11f6e8",
   "metadata": {},
   "outputs": [
    {
     "name": "stdout",
     "output_type": "stream",
     "text": [
      "tf.Tensor(\n",
      "[[ 2.0000000e+00]\n",
      " [-1.1920929e-07]\n",
      " [ 5.9999995e+00]\n",
      " [ 5.0000000e+00]], shape=(4, 1), dtype=float32)\n"
     ]
    }
   ],
   "source": [
    "coeff = tf.Variable([[1,1,1,1],[2,3,0,-1],[-3,4,1,2],[1,2,-1,1]],dtype=tf.float32)\n",
    "y= tf.Variable([[13],[-1],[10],[1]],dtype=tf.float32)\n",
    "inv_coff = tf.linalg.inv(coeff)\n",
    "solution =tf.linalg.matmul(inv_coff,y)\n",
    "print(solution)"
   ]
  },
  {
   "cell_type": "markdown",
   "id": "408a6527-1a30-4bba-bd94-1a9ee8f77768",
   "metadata": {},
   "source": [
    "Question 1\r\n",
    "The weights and the bias term of a trained model logistic regression model are given below. \r\n",
    "\r\n",
    "w1 = 0.5, w2 = 1 , w3 = -1.2 \r\n",
    "\r\n",
    "b = 0.01\r\n",
    "\r\n",
    "The features of a certain data point are given below.\r\n",
    "\r\n",
    "​x1 = 0.2, x2 = 1, x3 = 0.5\r\n",
    "\r\n",
    "Using TensorFlow, find the probability of the data point belonging to the positive class."
   ]
  },
  {
   "cell_type": "code",
   "execution_count": 142,
   "id": "4d12b0c0-b229-47cc-9a16-56a73acdb425",
   "metadata": {},
   "outputs": [
    {
     "name": "stdout",
     "output_type": "stream",
     "text": [
      "[[0.51]]\n",
      "tf.Tensor(0.62480646, shape=(), dtype=float32)\n"
     ]
    }
   ],
   "source": [
    "x =tf.Variable([[0.2,1,0.5]])\n",
    "w =tf.Variable([[0.5],[1],[-1.2]])\n",
    "b=tf.Variable([[0.01]])\n",
    "z= tf.add(tf.linalg.matmul(x,w),b)\n",
    "print(z.numpy())\n",
    "p = tf.sigmoid(z)\n",
    "print(p[0][0])"
   ]
  },
  {
   "cell_type": "code",
   "execution_count": null,
   "id": "aa7faad1-3843-4e17-8ba7-4edbf0247437",
   "metadata": {},
   "outputs": [],
   "source": []
  }
 ],
 "metadata": {
  "kernelspec": {
   "display_name": "Python 3 (ipykernel)",
   "language": "python",
   "name": "python3"
  },
  "language_info": {
   "codemirror_mode": {
    "name": "ipython",
    "version": 3
   },
   "file_extension": ".py",
   "mimetype": "text/x-python",
   "name": "python",
   "nbconvert_exporter": "python",
   "pygments_lexer": "ipython3",
   "version": "3.12.4"
  }
 },
 "nbformat": 4,
 "nbformat_minor": 5
}
