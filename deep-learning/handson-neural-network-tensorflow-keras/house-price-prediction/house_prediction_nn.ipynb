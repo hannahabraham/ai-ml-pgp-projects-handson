{
 "cells": [
  {
   "cell_type": "code",
   "execution_count": 1,
   "id": "04ad98d5-8176-4fc3-bdd3-0c033e49dc44",
   "metadata": {},
   "outputs": [],
   "source": [
    "# Import Required Libraries\n",
    "import tensorflow as tf\n",
    "import numpy as np\n",
    "import pandas as pd\n",
    "from sklearn.preprocessing import StandardScaler\n",
    "from sklearn.metrics import accuracy_score"
   ]
  },
  {
   "cell_type": "markdown",
   "id": "a3748b08-4af5-4d48-a9cf-719c1446d25f",
   "metadata": {},
   "source": [
    "## Part 1 : Importing Data and Feature transformation"
   ]
  },
  {
   "cell_type": "code",
   "execution_count": 3,
   "id": "c2f3b690-6e2d-44b3-baaa-0bdbe4c03263",
   "metadata": {},
   "outputs": [
    {
     "data": {
      "text/html": [
       "<div>\n",
       "<style scoped>\n",
       "    .dataframe tbody tr th:only-of-type {\n",
       "        vertical-align: middle;\n",
       "    }\n",
       "\n",
       "    .dataframe tbody tr th {\n",
       "        vertical-align: top;\n",
       "    }\n",
       "\n",
       "    .dataframe thead th {\n",
       "        text-align: right;\n",
       "    }\n",
       "</style>\n",
       "<table border=\"1\" class=\"dataframe\">\n",
       "  <thead>\n",
       "    <tr style=\"text-align: right;\">\n",
       "      <th></th>\n",
       "      <th>bedrooms</th>\n",
       "      <th>sqft_living</th>\n",
       "      <th>price</th>\n",
       "    </tr>\n",
       "  </thead>\n",
       "  <tbody>\n",
       "    <tr>\n",
       "      <th>0</th>\n",
       "      <td>3</td>\n",
       "      <td>1340</td>\n",
       "      <td>313000</td>\n",
       "    </tr>\n",
       "    <tr>\n",
       "      <th>1</th>\n",
       "      <td>5</td>\n",
       "      <td>3650</td>\n",
       "      <td>2384000</td>\n",
       "    </tr>\n",
       "    <tr>\n",
       "      <th>2</th>\n",
       "      <td>3</td>\n",
       "      <td>1930</td>\n",
       "      <td>342000</td>\n",
       "    </tr>\n",
       "    <tr>\n",
       "      <th>3</th>\n",
       "      <td>3</td>\n",
       "      <td>2000</td>\n",
       "      <td>420000</td>\n",
       "    </tr>\n",
       "    <tr>\n",
       "      <th>4</th>\n",
       "      <td>4</td>\n",
       "      <td>1940</td>\n",
       "      <td>550000</td>\n",
       "    </tr>\n",
       "  </tbody>\n",
       "</table>\n",
       "</div>"
      ],
      "text/plain": [
       "   bedrooms  sqft_living    price\n",
       "0         3         1340   313000\n",
       "1         5         3650  2384000\n",
       "2         3         1930   342000\n",
       "3         3         2000   420000\n",
       "4         4         1940   550000"
      ]
     },
     "execution_count": 3,
     "metadata": {},
     "output_type": "execute_result"
    }
   ],
   "source": [
    "# Import Data\n",
    "df = pd.read_csv(\"house_price_full.csv\")\n",
    "df.head()"
   ]
  },
  {
   "cell_type": "code",
   "execution_count": 4,
   "id": "2e4e9963-4548-4ee0-a350-a978da84f606",
   "metadata": {},
   "outputs": [],
   "source": [
    "X = df.copy()\n",
    "# Remove target\n",
    "y= X.pop('price')"
   ]
  },
  {
   "cell_type": "code",
   "execution_count": 5,
   "id": "4ec76dee-3849-4405-b1e1-b0a120a88ebf",
   "metadata": {},
   "outputs": [],
   "source": [
    "# Perform scaler transform on data\n",
    "scaler = StandardScaler()\n",
    "X = scaler.fit_transform(X)\n",
    "\n",
    "# Perform log transformation of target variable\n",
    "y = np.log(y)"
   ]
  },
  {
   "cell_type": "code",
   "execution_count": 6,
   "id": "f48aa579-02eb-4c24-b57f-eec919c2284b",
   "metadata": {},
   "outputs": [
    {
     "data": {
      "text/html": [
       "<div>\n",
       "<style scoped>\n",
       "    .dataframe tbody tr th:only-of-type {\n",
       "        vertical-align: middle;\n",
       "    }\n",
       "\n",
       "    .dataframe tbody tr th {\n",
       "        vertical-align: top;\n",
       "    }\n",
       "\n",
       "    .dataframe thead th {\n",
       "        text-align: right;\n",
       "    }\n",
       "</style>\n",
       "<table border=\"1\" class=\"dataframe\">\n",
       "  <thead>\n",
       "    <tr style=\"text-align: right;\">\n",
       "      <th></th>\n",
       "      <th>0</th>\n",
       "      <th>1</th>\n",
       "    </tr>\n",
       "  </thead>\n",
       "  <tbody>\n",
       "    <tr>\n",
       "      <th>0</th>\n",
       "      <td>-0.433198</td>\n",
       "      <td>-0.753258</td>\n",
       "    </tr>\n",
       "    <tr>\n",
       "      <th>1</th>\n",
       "      <td>1.675735</td>\n",
       "      <td>1.457330</td>\n",
       "    </tr>\n",
       "    <tr>\n",
       "      <th>2</th>\n",
       "      <td>-0.433198</td>\n",
       "      <td>-0.188649</td>\n",
       "    </tr>\n",
       "    <tr>\n",
       "      <th>3</th>\n",
       "      <td>-0.433198</td>\n",
       "      <td>-0.121661</td>\n",
       "    </tr>\n",
       "    <tr>\n",
       "      <th>4</th>\n",
       "      <td>0.621269</td>\n",
       "      <td>-0.179079</td>\n",
       "    </tr>\n",
       "    <tr>\n",
       "      <th>...</th>\n",
       "      <td>...</td>\n",
       "      <td>...</td>\n",
       "    </tr>\n",
       "    <tr>\n",
       "      <th>494</th>\n",
       "      <td>0.621269</td>\n",
       "      <td>0.873582</td>\n",
       "    </tr>\n",
       "    <tr>\n",
       "      <th>495</th>\n",
       "      <td>1.675735</td>\n",
       "      <td>2.299459</td>\n",
       "    </tr>\n",
       "    <tr>\n",
       "      <th>496</th>\n",
       "      <td>-0.433198</td>\n",
       "      <td>-0.724549</td>\n",
       "    </tr>\n",
       "    <tr>\n",
       "      <th>497</th>\n",
       "      <td>-0.433198</td>\n",
       "      <td>-0.179079</td>\n",
       "    </tr>\n",
       "    <tr>\n",
       "      <th>498</th>\n",
       "      <td>-0.433198</td>\n",
       "      <td>-1.040347</td>\n",
       "    </tr>\n",
       "  </tbody>\n",
       "</table>\n",
       "<p>499 rows × 2 columns</p>\n",
       "</div>"
      ],
      "text/plain": [
       "            0         1\n",
       "0   -0.433198 -0.753258\n",
       "1    1.675735  1.457330\n",
       "2   -0.433198 -0.188649\n",
       "3   -0.433198 -0.121661\n",
       "4    0.621269 -0.179079\n",
       "..        ...       ...\n",
       "494  0.621269  0.873582\n",
       "495  1.675735  2.299459\n",
       "496 -0.433198 -0.724549\n",
       "497 -0.433198 -0.179079\n",
       "498 -0.433198 -1.040347\n",
       "\n",
       "[499 rows x 2 columns]"
      ]
     },
     "execution_count": 6,
     "metadata": {},
     "output_type": "execute_result"
    }
   ],
   "source": [
    "df_scaled = pd.DataFrame(X)\n",
    "df_scaled"
   ]
  },
  {
   "cell_type": "code",
   "execution_count": 7,
   "id": "1f414a7f-eef8-4bca-bd52-a26537abe789",
   "metadata": {},
   "outputs": [],
   "source": [
    "x1, x2 = df_scaled.iloc[0]"
   ]
  },
  {
   "cell_type": "code",
   "execution_count": 8,
   "id": "f38ef004-555d-49bc-9836-3e37a347434a",
   "metadata": {},
   "outputs": [
    {
     "data": {
      "text/plain": [
       "array([[-0.43319765, -0.7532575 ]], dtype=float32)"
      ]
     },
     "execution_count": 8,
     "metadata": {},
     "output_type": "execute_result"
    }
   ],
   "source": [
    "x = tf.constant([[x1,x2]],dtype=tf.float32)\n",
    "x.numpy()"
   ]
  },
  {
   "cell_type": "markdown",
   "id": "abe6cdc8-ea56-45d6-999b-fc693bb01468",
   "metadata": {},
   "source": [
    "## Part:2 Forward Propagation with Single Neuron"
   ]
  },
  {
   "cell_type": "code",
   "execution_count": 10,
   "id": "ef9ef8e6-b796-4a48-ab0c-4b07c00a5d51",
   "metadata": {},
   "outputs": [],
   "source": [
    "# Manually specifying weight and biases\n",
    "w1 = tf.Variable([0.2],dtype=tf.float32)\n",
    "w2 = tf.Variable([0.15],dtype=tf.float32)\n",
    "b = tf.Variable([0.1],dtype=tf.float32)"
   ]
  },
  {
   "cell_type": "code",
   "execution_count": 11,
   "id": "661bafe2-9153-4761-b44c-9d3455e92d0e",
   "metadata": {},
   "outputs": [
    {
     "name": "stdout",
     "output_type": "stream",
     "text": [
      "Output of first neuron: tf.Tensor([0.47511354], shape=(1,), dtype=float32)\n"
     ]
    }
   ],
   "source": [
    "z = b +w1*x1+w2*x2\n",
    "h = tf.math.sigmoid(z)\n",
    "print(\"Output of first neuron:\",h)"
   ]
  },
  {
   "cell_type": "markdown",
   "id": "9f7a77ae-9059-40ee-aa4e-2eb59dd7b131",
   "metadata": {},
   "source": [
    "## Part:3 Forward Propagation with Multiple Neurons"
   ]
  },
  {
   "cell_type": "code",
   "execution_count": 13,
   "id": "59acda6f-ccb9-4fc5-a077-478ffb40854a",
   "metadata": {},
   "outputs": [],
   "source": [
    "# Manually specifying weight and biases\n",
    "# neuron 1\n",
    "b1 =tf.Variable([0.1],dtype=tf.float32)\n",
    "w11 =tf.Variable([0.2],dtype=tf.float32)\n",
    "w12 =tf.Variable([0.15],dtype=tf.float32)\n",
    "\n",
    "# neuron 2\n",
    "b2 =tf.Variable([0.25],dtype=tf.float32)\n",
    "w21 =tf.Variable([0.5],dtype=tf.float32)\n",
    "w22 =tf.Variable([0.6],dtype=tf.float32)"
   ]
  },
  {
   "cell_type": "code",
   "execution_count": 14,
   "id": "c1f2a345-aafd-4c4f-abe4-b844d0d0506f",
   "metadata": {},
   "outputs": [
    {
     "name": "stdout",
     "output_type": "stream",
     "text": [
      "Output of first neuron: tf.Tensor([0.47511354], shape=(1,), dtype=float32)\n"
     ]
    }
   ],
   "source": [
    "# Forward Pass\n",
    "#neuron 1\n",
    "z1 = b1 +w11*x1+w12*x2\n",
    "h1 = tf.math.sigmoid(z1)\n",
    "print(\"Output of first neuron:\",h1)"
   ]
  },
  {
   "cell_type": "code",
   "execution_count": 15,
   "id": "a7389804-48c1-464f-b192-d1813dee173e",
   "metadata": {},
   "outputs": [
    {
     "name": "stdout",
     "output_type": "stream",
     "text": [
      "Output of first neuron: tf.Tensor([0.39686295], shape=(1,), dtype=float32)\n"
     ]
    }
   ],
   "source": [
    "# Forward Pass\n",
    "#neuron 2\n",
    "z2 = b2 +w21*x1+w22*x2\n",
    "h2 = tf.math.sigmoid(z2)\n",
    "print(\"Output of first neuron:\",h2)"
   ]
  },
  {
   "cell_type": "code",
   "execution_count": 16,
   "id": "7c301c1c-2d7a-4a77-a6d3-3e87d6c2e36a",
   "metadata": {},
   "outputs": [],
   "source": [
    "# Layer 2 weight and bias\n",
    "b1 =tf.Variable([0.4],dtype=tf.float32)\n",
    "w11 =tf.Variable([0.3],dtype=tf.float32)\n",
    "w12 =tf.Variable([0.2],dtype=tf.float32)"
   ]
  },
  {
   "cell_type": "code",
   "execution_count": 17,
   "id": "ca85caa7-0870-4d57-a213-6239ab12a613",
   "metadata": {},
   "outputs": [
    {
     "name": "stdout",
     "output_type": "stream",
     "text": [
      "Output of first neuron: tf.Tensor([0.62190664], shape=(1,), dtype=float32)\n"
     ]
    }
   ],
   "source": [
    "# Forward Pass\n",
    "#nSecond layer\n",
    "z1 = b1 +w11*h1+w12*h2\n",
    "h1 = z1\n",
    "print(\"Output of first neuron:\",h1)"
   ]
  },
  {
   "cell_type": "code",
   "execution_count": 18,
   "id": "593b6d0f-57fe-4ae6-aed9-e2cec8791fa2",
   "metadata": {},
   "outputs": [],
   "source": [
    "y_true = y[0]\n",
    "y_pred = h1.numpy()"
   ]
  },
  {
   "cell_type": "code",
   "execution_count": 19,
   "id": "ca205393-bf3d-4f0f-9828-83f46fe9f9f2",
   "metadata": {},
   "outputs": [
    {
     "name": "stdout",
     "output_type": "stream",
     "text": [
      "loss : [72.38514]\n"
     ]
    }
   ],
   "source": [
    "# Loss\n",
    "l = 0.5*(y_true-y_pred)**2\n",
    "print(\"loss :\",l)"
   ]
  },
  {
   "cell_type": "markdown",
   "id": "82c32121-03df-4b29-ba89-b1b1a7acf2ea",
   "metadata": {},
   "source": [
    "## Part 4 Forward pass matrix multiplication"
   ]
  },
  {
   "cell_type": "code",
   "execution_count": 21,
   "id": "3d7c021a-8685-46c8-9ad4-0e7c1c978a06",
   "metadata": {},
   "outputs": [],
   "source": [
    "## Layer 1 weights\n",
    "W1 = tf.Variable([[0.2,0.15],[0.5,0.6]],dtype=tf.float32)\n",
    "## Layer 1 bias\n",
    "B1 = tf.Variable([[0.1],[0.25]],dtype=tf.float32)"
   ]
  },
  {
   "cell_type": "code",
   "execution_count": 22,
   "id": "20819179-cea1-4f98-84c0-38af8f2eaf36",
   "metadata": {},
   "outputs": [],
   "source": [
    "## Layer 2 weights\n",
    "W2 = tf.Variable([[0.3,0.2]],dtype=tf.float32)\n",
    "## Layer 2 bias\n",
    "B2 = tf.Variable([[0.4]],dtype=tf.float32)"
   ]
  },
  {
   "cell_type": "code",
   "execution_count": 23,
   "id": "ec0ae267-64de-4a85-a82d-21fd7fe6e0c9",
   "metadata": {},
   "outputs": [],
   "source": [
    "## data\n",
    "X = tf.constant([[x1,x2]],dtype=tf.float32)"
   ]
  },
  {
   "cell_type": "code",
   "execution_count": 24,
   "id": "c8237597-669e-40cd-a484-a6c8152cac8e",
   "metadata": {},
   "outputs": [
    {
     "name": "stdout",
     "output_type": "stream",
     "text": [
      "tf.Tensor(\n",
      "[[0.47511354]\n",
      " [0.39686295]], shape=(2, 1), dtype=float32)\n"
     ]
    }
   ],
   "source": [
    "## forward pass layer 1\n",
    "Z1 = tf.add(tf.matmul(W1,tf.transpose(X)),B1)\n",
    "H1 = tf.sigmoid(Z1)\n",
    "print(H1)"
   ]
  },
  {
   "cell_type": "code",
   "execution_count": 25,
   "id": "f8cb1630-8b67-42cd-92ac-870cd278925e",
   "metadata": {},
   "outputs": [
    {
     "name": "stdout",
     "output_type": "stream",
     "text": [
      "tf.Tensor([[0.65065205]], shape=(1, 1), dtype=float32)\n"
     ]
    }
   ],
   "source": [
    "## forward pass layer2\n",
    "Z2 = tf.add(tf.matmul(W2,H1),B2)\n",
    "H2 = tf.sigmoid(Z2)\n",
    "print(H2)"
   ]
  },
  {
   "cell_type": "code",
   "execution_count": 26,
   "id": "d0c187b2-e625-4e59-842a-f424478f8bf7",
   "metadata": {},
   "outputs": [
    {
     "data": {
      "text/plain": [
       "array([[72.03968]], dtype=float32)"
      ]
     },
     "execution_count": 26,
     "metadata": {},
     "output_type": "execute_result"
    }
   ],
   "source": [
    "loss= 0.5 *(y_true-H2.numpy())**2\n",
    "loss"
   ]
  },
  {
   "cell_type": "markdown",
   "id": "3aad3531-9c9c-45ec-9170-279e3f7fb4f1",
   "metadata": {},
   "source": [
    "## Part 5 : Random Weight Initialization"
   ]
  },
  {
   "cell_type": "code",
   "execution_count": 28,
   "id": "fa15ac5f-ac42-4652-9b49-84bd81089280",
   "metadata": {},
   "outputs": [],
   "source": [
    "def random_init_params():\n",
    "    w1 = tf.Variable(tf.random.uniform((2,2)))\n",
    "    b1 = tf.Variable(tf.random.uniform((1,2)))\n",
    "    w2 = tf.Variable(tf.random.uniform((2,1)))\n",
    "    b2 = tf.Variable(tf.random.uniform((1,1)))\n",
    "    return w1,b1,w2,b2"
   ]
  },
  {
   "cell_type": "code",
   "execution_count": 29,
   "id": "f9dbdc66-9ca1-4f10-963f-5c5b2bb89811",
   "metadata": {},
   "outputs": [],
   "source": [
    "x = tf.constant([[x1,x2]],dtype=tf.float32)\n",
    "y = y[0]"
   ]
  },
  {
   "cell_type": "code",
   "execution_count": 30,
   "id": "756be047-af31-406a-ab3e-bf9a360aaaea",
   "metadata": {},
   "outputs": [],
   "source": [
    "w1,b1,w2,b2 =random_init_params()"
   ]
  },
  {
   "cell_type": "code",
   "execution_count": 31,
   "id": "63b30352-c086-4778-91b0-5662a36d5162",
   "metadata": {},
   "outputs": [
    {
     "name": "stdout",
     "output_type": "stream",
     "text": [
      "Initialized weights of layer 1 [[0.5299659  0.05304074]\n",
      " [0.34253514 0.33188236]]\n",
      "Initialized bias of layer 1 [[0.62743306 0.5140215 ]]\n",
      "Initialized weights of layer 2 [[0.36525857]\n",
      " [0.18009448]]\n",
      "Initialized bias of layer 2 [[0.45328546]]\n"
     ]
    }
   ],
   "source": [
    "print(\"Initialized weights of layer 1\",w1.numpy())\n",
    "print(\"Initialized bias of layer 1\",b1.numpy())\n",
    "print(\"Initialized weights of layer 2\",w2.numpy())\n",
    "print(\"Initialized bias of layer 2\",b2.numpy())"
   ]
  },
  {
   "cell_type": "code",
   "execution_count": 32,
   "id": "2efc3715-88a2-49dc-ad08-17ba77a61927",
   "metadata": {},
   "outputs": [],
   "source": [
    "def forward_prop(x,w1,b1,w2,b2):\n",
    "    z1 = tf.add(tf.matmul(x,w1),b1)\n",
    "    h1 = tf.sigmoid(z1)\n",
    "    z2 =tf.add(tf.matmul(h1,w2),b2)\n",
    "    h2 =z2\n",
    "    return h2"
   ]
  },
  {
   "cell_type": "code",
   "execution_count": 33,
   "id": "faa14c5a-518c-4fa4-8337-e4c3f5c5888f",
   "metadata": {},
   "outputs": [
    {
     "data": {
      "text/plain": [
       "<tf.Tensor: shape=(1, 1), dtype=float32, numpy=array([[70.85793]], dtype=float32)>"
      ]
     },
     "execution_count": 33,
     "metadata": {},
     "output_type": "execute_result"
    }
   ],
   "source": [
    "y_pred =forward_prop(x,w1,b1,w2,b2)\n",
    "loss =0.5*(y -y_pred)**2\n",
    "loss"
   ]
  },
  {
   "cell_type": "markdown",
   "id": "fe5b7d44-fdcb-4edd-9d8b-9e8f58e2edce",
   "metadata": {},
   "source": [
    "## Part 6: Backpropagation"
   ]
  },
  {
   "cell_type": "code",
   "execution_count": 35,
   "id": "22f2e90f-80d3-4649-b755-3348e59e2674",
   "metadata": {},
   "outputs": [],
   "source": [
    "x = tf.Variable(0.0)\n",
    "ls = eta =0.1"
   ]
  },
  {
   "cell_type": "code",
   "execution_count": 36,
   "id": "d99a7d42-7da3-432c-a81c-91d83a3844ad",
   "metadata": {},
   "outputs": [],
   "source": [
    "with tf.GradientTape() as tape:\n",
    "    y = x**2+4*x\n",
    "grad = tape.gradient(y,x)"
   ]
  },
  {
   "cell_type": "code",
   "execution_count": 37,
   "id": "9df58c7d-0df9-431d-a0d5-4f87e974dc44",
   "metadata": {},
   "outputs": [
    {
     "data": {
      "text/plain": [
       "4.0"
      ]
     },
     "execution_count": 37,
     "metadata": {},
     "output_type": "execute_result"
    }
   ],
   "source": [
    "grad.numpy()"
   ]
  },
  {
   "cell_type": "code",
   "execution_count": 38,
   "id": "43bf9f08-909d-457d-8174-0c1eb2ea20db",
   "metadata": {},
   "outputs": [
    {
     "data": {
      "text/plain": [
       "<tf.Variable 'UnreadVariable' shape=() dtype=float32, numpy=-0.4000000059604645>"
      ]
     },
     "execution_count": 38,
     "metadata": {},
     "output_type": "execute_result"
    }
   ],
   "source": [
    "x.assign_sub(eta*grad)\n"
   ]
  },
  {
   "cell_type": "code",
   "execution_count": 39,
   "id": "978da03e-39bc-46fc-921d-16514189b343",
   "metadata": {},
   "outputs": [
    {
     "data": {
      "text/plain": [
       "-0.4"
      ]
     },
     "execution_count": 39,
     "metadata": {},
     "output_type": "execute_result"
    }
   ],
   "source": [
    "x.numpy()"
   ]
  },
  {
   "cell_type": "code",
   "execution_count": 40,
   "id": "448877e5-2b19-4d53-ba35-8bd5dd8fb70a",
   "metadata": {},
   "outputs": [
    {
     "name": "stdout",
     "output_type": "stream",
     "text": [
      "-0.4\n",
      "-0.72\n",
      "-0.9760001\n",
      "-1.1808001\n",
      "-1.34464\n",
      "-1.4757121\n",
      "-1.5805696\n",
      "-1.6644557\n",
      "-1.7315645\n",
      "-1.7852516\n"
     ]
    }
   ],
   "source": [
    "## full loop\n",
    "x= tf.Variable(0.0)\n",
    "lr =0.1\n",
    "for i in range(10):\n",
    "    with tf.GradientTape() as tape:\n",
    "        y=x**2+4*x\n",
    "    grad =tape.gradient(y,x)\n",
    "    x.assign_sub(lr*grad)\n",
    "    print(x.numpy())"
   ]
  },
  {
   "cell_type": "code",
   "execution_count": 41,
   "id": "ed5995e0-b32a-4a47-ae6e-24e1de0f1067",
   "metadata": {},
   "outputs": [
    {
     "data": {
      "text/html": [
       "<div>\n",
       "<style scoped>\n",
       "    .dataframe tbody tr th:only-of-type {\n",
       "        vertical-align: middle;\n",
       "    }\n",
       "\n",
       "    .dataframe tbody tr th {\n",
       "        vertical-align: top;\n",
       "    }\n",
       "\n",
       "    .dataframe thead th {\n",
       "        text-align: right;\n",
       "    }\n",
       "</style>\n",
       "<table border=\"1\" class=\"dataframe\">\n",
       "  <thead>\n",
       "    <tr style=\"text-align: right;\">\n",
       "      <th></th>\n",
       "      <th>0</th>\n",
       "      <th>1</th>\n",
       "    </tr>\n",
       "  </thead>\n",
       "  <tbody>\n",
       "    <tr>\n",
       "      <th>0</th>\n",
       "      <td>-0.433198</td>\n",
       "      <td>-0.753258</td>\n",
       "    </tr>\n",
       "    <tr>\n",
       "      <th>1</th>\n",
       "      <td>1.675735</td>\n",
       "      <td>1.457330</td>\n",
       "    </tr>\n",
       "    <tr>\n",
       "      <th>2</th>\n",
       "      <td>-0.433198</td>\n",
       "      <td>-0.188649</td>\n",
       "    </tr>\n",
       "    <tr>\n",
       "      <th>3</th>\n",
       "      <td>-0.433198</td>\n",
       "      <td>-0.121661</td>\n",
       "    </tr>\n",
       "    <tr>\n",
       "      <th>4</th>\n",
       "      <td>0.621269</td>\n",
       "      <td>-0.179079</td>\n",
       "    </tr>\n",
       "  </tbody>\n",
       "</table>\n",
       "</div>"
      ],
      "text/plain": [
       "          0         1\n",
       "0 -0.433198 -0.753258\n",
       "1  1.675735  1.457330\n",
       "2 -0.433198 -0.188649\n",
       "3 -0.433198 -0.121661\n",
       "4  0.621269 -0.179079"
      ]
     },
     "execution_count": 41,
     "metadata": {},
     "output_type": "execute_result"
    }
   ],
   "source": [
    "# Read data\n",
    "df = pd.read_csv(\"house_price_full.csv\")\n",
    "X = df.copy()\n",
    "Y = X.pop(\"price\")\n",
    "scaler = StandardScaler()\n",
    "X = scaler.fit_transform(X)\n",
    "Y=np.log(Y)\n",
    "df_scaled = pd.DataFrame(X)\n",
    "x1,x2 =df_scaled.iloc[0]\n",
    "df_scaled.head()"
   ]
  },
  {
   "cell_type": "code",
   "execution_count": 42,
   "id": "2ba01e25-3d97-4f6a-a4f4-f383b7967c4b",
   "metadata": {},
   "outputs": [],
   "source": [
    "x = tf.constant([[x1,x2]],dtype=tf.float32)\n",
    "y=Y[0]"
   ]
  },
  {
   "cell_type": "code",
   "execution_count": 43,
   "id": "66c44d50-e45d-48ff-a062-73fac97089ae",
   "metadata": {},
   "outputs": [],
   "source": [
    "def random_init_param():\n",
    "    w1 = tf.Variable(tf.random.uniform((2,2)))\n",
    "    b1 = tf.Variable(tf.random.uniform((2,1)))\n",
    "    w2 = tf.Variable(tf.random.uniform((1,2)))\n",
    "    b2 = tf.Variable(tf.random.uniform((1,1)))\n",
    "    return w1,b1,w2,b2\n",
    "\n",
    "def forward_prop(x,w1,b1,w2,b2):\n",
    "    z1=tf.add(tf.matmul(w1,tf.transpose(x)),b1)\n",
    "    h1 = tf.sigmoid(z1)\n",
    "    z2 =tf.add(tf.matmul(w2,h1),b2)\n",
    "    h2=z2\n",
    "    return h2"
   ]
  },
  {
   "cell_type": "code",
   "execution_count": 44,
   "id": "86423bc4-85e0-4ccc-b589-6b54f5ce7f79",
   "metadata": {},
   "outputs": [],
   "source": [
    "w1,b1,w2,b2 =random_init_param()"
   ]
  },
  {
   "cell_type": "code",
   "execution_count": 45,
   "id": "bbb202fd-7f74-4d78-ba57-ceb6bab13ca2",
   "metadata": {},
   "outputs": [],
   "source": [
    "with tf.GradientTape() as tape:\n",
    "    y_pred=forward_prop(x,w1,b1,w2,b2)\n",
    "    loss =0.5*(y-y_pred)**2"
   ]
  },
  {
   "cell_type": "code",
   "execution_count": 46,
   "id": "dcc09709-b2c7-499f-b281-c315bc8f0abc",
   "metadata": {},
   "outputs": [],
   "source": [
    "gw1,gb1,gw2,gb2=tape.gradient(loss,[w1,b1,w2,b2])"
   ]
  },
  {
   "cell_type": "code",
   "execution_count": 88,
   "id": "c4a62322-64fa-4521-8bd8-bc0deb31fe47",
   "metadata": {},
   "outputs": [
    {
     "name": "stdout",
     "output_type": "stream",
     "text": [
      "tf.Tensor(\n",
      "[[0.08976761 0.15609069]\n",
      " [0.3228991  0.561467  ]], shape=(2, 2), dtype=float32)\n"
     ]
    }
   ],
   "source": [
    "print(gw1)"
   ]
  },
  {
   "cell_type": "code",
   "execution_count": 90,
   "id": "97dc23fc-cc4c-45ba-98a0-14ca7e086bf9",
   "metadata": {},
   "outputs": [
    {
     "name": "stdout",
     "output_type": "stream",
     "text": [
      "tf.Tensor(\n",
      "[[-0.2072209 ]\n",
      " [-0.74538517]], shape=(2, 1), dtype=float32)\n"
     ]
    }
   ],
   "source": [
    "print(gb1)"
   ]
  },
  {
   "cell_type": "code",
   "execution_count": 92,
   "id": "7064c28f-6eb5-4106-90d4-807e1b85bcbf",
   "metadata": {},
   "outputs": [
    {
     "name": "stdout",
     "output_type": "stream",
     "text": [
      "tf.Tensor([[-7.2064714 -5.853784 ]], shape=(1, 2), dtype=float32)\n"
     ]
    }
   ],
   "source": [
    "print(gw2)"
   ]
  },
  {
   "cell_type": "code",
   "execution_count": 94,
   "id": "a2b77fc0-d756-437d-ab56-5e3fd3032da3",
   "metadata": {},
   "outputs": [
    {
     "name": "stdout",
     "output_type": "stream",
     "text": [
      "tf.Tensor([[-12.310982]], shape=(1, 1), dtype=float32)\n"
     ]
    }
   ],
   "source": [
    "print(gb2)"
   ]
  },
  {
   "cell_type": "code",
   "execution_count": 96,
   "id": "99e89968-99bb-4f70-bdbc-b0c6d0be53e5",
   "metadata": {},
   "outputs": [
    {
     "data": {
      "text/plain": [
       "<tf.Variable 'UnreadVariable' shape=(2, 2) dtype=float32, numpy=\n",
       "array([[0.3081258 , 0.44940588],\n",
       "       [0.5431983 , 0.43124524]], dtype=float32)>"
      ]
     },
     "execution_count": 96,
     "metadata": {},
     "output_type": "execute_result"
    }
   ],
   "source": [
    "lr =0.1\n",
    "w1.assign_sub(lr*gw1)"
   ]
  },
  {
   "cell_type": "code",
   "execution_count": null,
   "id": "dc5a826f-9eee-4892-96ce-f5b38c666123",
   "metadata": {},
   "outputs": [],
   "source": []
  }
 ],
 "metadata": {
  "kernelspec": {
   "display_name": "Python 3 (ipykernel)",
   "language": "python",
   "name": "python3"
  },
  "language_info": {
   "codemirror_mode": {
    "name": "ipython",
    "version": 3
   },
   "file_extension": ".py",
   "mimetype": "text/x-python",
   "name": "python",
   "nbconvert_exporter": "python",
   "pygments_lexer": "ipython3",
   "version": "3.12.4"
  }
 },
 "nbformat": 4,
 "nbformat_minor": 5
}
