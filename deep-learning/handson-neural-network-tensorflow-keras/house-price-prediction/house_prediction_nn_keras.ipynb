{
 "cells": [
  {
   "cell_type": "code",
   "execution_count": 14,
   "id": "05861760-fb80-40ea-9667-aa0ec3646898",
   "metadata": {},
   "outputs": [
    {
     "name": "stdout",
     "output_type": "stream",
     "text": [
      "Requirement already satisfied: keras in c:\\users\\habraham\\anaconda3\\lib\\site-packages (3.6.0)\n",
      "Requirement already satisfied: absl-py in c:\\users\\habraham\\anaconda3\\lib\\site-packages (from keras) (2.1.0)\n",
      "Requirement already satisfied: numpy in c:\\users\\habraham\\anaconda3\\lib\\site-packages (from keras) (1.26.4)\n",
      "Requirement already satisfied: rich in c:\\users\\habraham\\anaconda3\\lib\\site-packages (from keras) (13.3.5)\n",
      "Requirement already satisfied: namex in c:\\users\\habraham\\anaconda3\\lib\\site-packages (from keras) (0.0.8)\n",
      "Requirement already satisfied: h5py in c:\\users\\habraham\\anaconda3\\lib\\site-packages (from keras) (3.11.0)\n",
      "Requirement already satisfied: optree in c:\\users\\habraham\\anaconda3\\lib\\site-packages (from keras) (0.13.0)\n",
      "Requirement already satisfied: ml-dtypes in c:\\users\\habraham\\anaconda3\\lib\\site-packages (from keras) (0.4.1)\n",
      "Requirement already satisfied: packaging in c:\\users\\habraham\\anaconda3\\lib\\site-packages (from keras) (23.2)\n",
      "Requirement already satisfied: typing-extensions>=4.5.0 in c:\\users\\habraham\\anaconda3\\lib\\site-packages (from optree->keras) (4.12.2)\n",
      "Requirement already satisfied: markdown-it-py<3.0.0,>=2.2.0 in c:\\users\\habraham\\anaconda3\\lib\\site-packages (from rich->keras) (2.2.0)\n",
      "Requirement already satisfied: pygments<3.0.0,>=2.13.0 in c:\\users\\habraham\\anaconda3\\lib\\site-packages (from rich->keras) (2.15.1)\n",
      "Requirement already satisfied: mdurl~=0.1 in c:\\users\\habraham\\anaconda3\\lib\\site-packages (from markdown-it-py<3.0.0,>=2.2.0->rich->keras) (0.1.0)\n"
     ]
    }
   ],
   "source": [
    "!pip install keras"
   ]
  },
  {
   "cell_type": "code",
   "execution_count": 19,
   "id": "23dc23ad-b2fd-4cf1-9ea1-c38664397b38",
   "metadata": {},
   "outputs": [],
   "source": [
    "import numpy as np\n",
    "import pandas as pd\n",
    "from sklearn.preprocessing import StandardScaler"
   ]
  },
  {
   "cell_type": "code",
   "execution_count": 25,
   "id": "9fdd9db7-c6e6-4a8a-93aa-2ae96701c3f8",
   "metadata": {},
   "outputs": [],
   "source": [
    "df = pd.read_csv(\"house_price_full.csv\")\n",
    "X=df.copy()\n",
    "Y=X.pop('price')\n",
    "scaler =StandardScaler()\n",
    "X=scaler.fit_transform(X)\n",
    "Y=np.log(Y)\n",
    "df_scaled=pd.DataFrame(X)"
   ]
  },
  {
   "cell_type": "code",
   "execution_count": 29,
   "id": "f5fd911d-768a-4dcf-bd58-1c0b4754e8fd",
   "metadata": {},
   "outputs": [],
   "source": [
    "from tensorflow import keras"
   ]
  },
  {
   "cell_type": "code",
   "execution_count": 33,
   "id": "d676f84e-56dd-44ba-82f1-2f815d603522",
   "metadata": {},
   "outputs": [
    {
     "name": "stderr",
     "output_type": "stream",
     "text": [
      "C:\\Users\\habraham\\anaconda3\\Lib\\site-packages\\keras\\src\\layers\\core\\dense.py:87: UserWarning: Do not pass an `input_shape`/`input_dim` argument to a layer. When using Sequential models, prefer using an `Input(shape)` object as the first layer in the model instead.\n",
      "  super().__init__(activity_regularizer=activity_regularizer, **kwargs)\n"
     ]
    }
   ],
   "source": [
    "model = keras.Sequential([\n",
    "    keras.layers.Dense(2, activation=\"sigmoid\",input_shape=(X.shape[-1],)),\n",
    "                       keras.layers.Dense(1,activation=\"linear\")\n",
    "])"
   ]
  },
  {
   "cell_type": "code",
   "execution_count": 35,
   "id": "135ab040-a453-42ae-8b64-62e981a7abe7",
   "metadata": {},
   "outputs": [
    {
     "data": {
      "text/html": [
       "<pre style=\"white-space:pre;overflow-x:auto;line-height:normal;font-family:Menlo,'DejaVu Sans Mono',consolas,'Courier New',monospace\"><span style=\"font-weight: bold\">Model: \"sequential\"</span>\n",
       "</pre>\n"
      ],
      "text/plain": [
       "\u001b[1mModel: \"sequential\"\u001b[0m\n"
      ]
     },
     "metadata": {},
     "output_type": "display_data"
    },
    {
     "data": {
      "text/html": [
       "<pre style=\"white-space:pre;overflow-x:auto;line-height:normal;font-family:Menlo,'DejaVu Sans Mono',consolas,'Courier New',monospace\">┏━━━━━━━━━━━━━━━━━━━━━━━━━━━━━━━━━┳━━━━━━━━━━━━━━━━━━━━━━━━┳━━━━━━━━━━━━━━━┓\n",
       "┃<span style=\"font-weight: bold\"> Layer (type)                    </span>┃<span style=\"font-weight: bold\"> Output Shape           </span>┃<span style=\"font-weight: bold\">       Param # </span>┃\n",
       "┡━━━━━━━━━━━━━━━━━━━━━━━━━━━━━━━━━╇━━━━━━━━━━━━━━━━━━━━━━━━╇━━━━━━━━━━━━━━━┩\n",
       "│ dense (<span style=\"color: #0087ff; text-decoration-color: #0087ff\">Dense</span>)                   │ (<span style=\"color: #00d7ff; text-decoration-color: #00d7ff\">None</span>, <span style=\"color: #00af00; text-decoration-color: #00af00\">2</span>)              │             <span style=\"color: #00af00; text-decoration-color: #00af00\">6</span> │\n",
       "├─────────────────────────────────┼────────────────────────┼───────────────┤\n",
       "│ dense_1 (<span style=\"color: #0087ff; text-decoration-color: #0087ff\">Dense</span>)                 │ (<span style=\"color: #00d7ff; text-decoration-color: #00d7ff\">None</span>, <span style=\"color: #00af00; text-decoration-color: #00af00\">1</span>)              │             <span style=\"color: #00af00; text-decoration-color: #00af00\">3</span> │\n",
       "└─────────────────────────────────┴────────────────────────┴───────────────┘\n",
       "</pre>\n"
      ],
      "text/plain": [
       "┏━━━━━━━━━━━━━━━━━━━━━━━━━━━━━━━━━┳━━━━━━━━━━━━━━━━━━━━━━━━┳━━━━━━━━━━━━━━━┓\n",
       "┃\u001b[1m \u001b[0m\u001b[1mLayer (type)                   \u001b[0m\u001b[1m \u001b[0m┃\u001b[1m \u001b[0m\u001b[1mOutput Shape          \u001b[0m\u001b[1m \u001b[0m┃\u001b[1m \u001b[0m\u001b[1m      Param #\u001b[0m\u001b[1m \u001b[0m┃\n",
       "┡━━━━━━━━━━━━━━━━━━━━━━━━━━━━━━━━━╇━━━━━━━━━━━━━━━━━━━━━━━━╇━━━━━━━━━━━━━━━┩\n",
       "│ dense (\u001b[38;5;33mDense\u001b[0m)                   │ (\u001b[38;5;45mNone\u001b[0m, \u001b[38;5;34m2\u001b[0m)              │             \u001b[38;5;34m6\u001b[0m │\n",
       "├─────────────────────────────────┼────────────────────────┼───────────────┤\n",
       "│ dense_1 (\u001b[38;5;33mDense\u001b[0m)                 │ (\u001b[38;5;45mNone\u001b[0m, \u001b[38;5;34m1\u001b[0m)              │             \u001b[38;5;34m3\u001b[0m │\n",
       "└─────────────────────────────────┴────────────────────────┴───────────────┘\n"
      ]
     },
     "metadata": {},
     "output_type": "display_data"
    },
    {
     "data": {
      "text/html": [
       "<pre style=\"white-space:pre;overflow-x:auto;line-height:normal;font-family:Menlo,'DejaVu Sans Mono',consolas,'Courier New',monospace\"><span style=\"font-weight: bold\"> Total params: </span><span style=\"color: #00af00; text-decoration-color: #00af00\">9</span> (36.00 B)\n",
       "</pre>\n"
      ],
      "text/plain": [
       "\u001b[1m Total params: \u001b[0m\u001b[38;5;34m9\u001b[0m (36.00 B)\n"
      ]
     },
     "metadata": {},
     "output_type": "display_data"
    },
    {
     "data": {
      "text/html": [
       "<pre style=\"white-space:pre;overflow-x:auto;line-height:normal;font-family:Menlo,'DejaVu Sans Mono',consolas,'Courier New',monospace\"><span style=\"font-weight: bold\"> Trainable params: </span><span style=\"color: #00af00; text-decoration-color: #00af00\">9</span> (36.00 B)\n",
       "</pre>\n"
      ],
      "text/plain": [
       "\u001b[1m Trainable params: \u001b[0m\u001b[38;5;34m9\u001b[0m (36.00 B)\n"
      ]
     },
     "metadata": {},
     "output_type": "display_data"
    },
    {
     "data": {
      "text/html": [
       "<pre style=\"white-space:pre;overflow-x:auto;line-height:normal;font-family:Menlo,'DejaVu Sans Mono',consolas,'Courier New',monospace\"><span style=\"font-weight: bold\"> Non-trainable params: </span><span style=\"color: #00af00; text-decoration-color: #00af00\">0</span> (0.00 B)\n",
       "</pre>\n"
      ],
      "text/plain": [
       "\u001b[1m Non-trainable params: \u001b[0m\u001b[38;5;34m0\u001b[0m (0.00 B)\n"
      ]
     },
     "metadata": {},
     "output_type": "display_data"
    }
   ],
   "source": [
    "model.summary()"
   ]
  },
  {
   "cell_type": "code",
   "execution_count": 39,
   "id": "39a35b43-1361-4feb-a47c-03f3e93ed01c",
   "metadata": {},
   "outputs": [],
   "source": [
    "model.compile(optimizer=keras.optimizers.SGD(),loss=\"mean_squared_error\")"
   ]
  },
  {
   "cell_type": "code",
   "execution_count": 41,
   "id": "bf790c76-ba96-4d34-b280-fdbf33dacbe2",
   "metadata": {},
   "outputs": [
    {
     "name": "stdout",
     "output_type": "stream",
     "text": [
      "Epoch 1/10\n",
      "\u001b[1m16/16\u001b[0m \u001b[32m━━━━━━━━━━━━━━━━━━━━\u001b[0m\u001b[37m\u001b[0m \u001b[1m1s\u001b[0m 4ms/step - loss: 144.71739\n",
      "Epoch 2/10\n",
      "\u001b[1m16/16\u001b[0m \u001b[32m━━━━━━━━━━━━━━━━━━━━\u001b[0m\u001b[37m\u001b[0m \u001b[1m0s\u001b[0m 2ms/step - loss: 48.5120\n",
      "Epoch 3/10\n",
      "\u001b[1m16/16\u001b[0m \u001b[32m━━━━━━━━━━━━━━━━━━━━\u001b[0m\u001b[37m\u001b[0m \u001b[1m0s\u001b[0m 2ms/step - loss: 11.2652\n",
      "Epoch 4/10\n",
      "\u001b[1m16/16\u001b[0m \u001b[32m━━━━━━━━━━━━━━━━━━━━\u001b[0m\u001b[37m\u001b[0m \u001b[1m0s\u001b[0m 6ms/step - loss: 2.0972 \n",
      "Epoch 5/10\n",
      "\u001b[1m16/16\u001b[0m \u001b[32m━━━━━━━━━━━━━━━━━━━━\u001b[0m\u001b[37m\u001b[0m \u001b[1m0s\u001b[0m 3ms/step - loss: 0.5189\n",
      "Epoch 6/10\n",
      "\u001b[1m16/16\u001b[0m \u001b[32m━━━━━━━━━━━━━━━━━━━━\u001b[0m\u001b[37m\u001b[0m \u001b[1m0s\u001b[0m 2ms/step - loss: 0.21090\n",
      "Epoch 7/10\n",
      "\u001b[1m16/16\u001b[0m \u001b[32m━━━━━━━━━━━━━━━━━━━━\u001b[0m\u001b[37m\u001b[0m \u001b[1m0s\u001b[0m 3ms/step - loss: 0.1771\n",
      "Epoch 8/10\n",
      "\u001b[1m16/16\u001b[0m \u001b[32m━━━━━━━━━━━━━━━━━━━━\u001b[0m\u001b[37m\u001b[0m \u001b[1m0s\u001b[0m 2ms/step - loss: 0.1574 \n",
      "Epoch 9/10\n",
      "\u001b[1m16/16\u001b[0m \u001b[32m━━━━━━━━━━━━━━━━━━━━\u001b[0m\u001b[37m\u001b[0m \u001b[1m0s\u001b[0m 2ms/step - loss: 0.1716\n",
      "Epoch 10/10\n",
      "\u001b[1m16/16\u001b[0m \u001b[32m━━━━━━━━━━━━━━━━━━━━\u001b[0m\u001b[37m\u001b[0m \u001b[1m0s\u001b[0m 2ms/step - loss: 0.14837\n"
     ]
    },
    {
     "data": {
      "text/plain": [
       "<keras.src.callbacks.history.History at 0x12e5a0a46b0>"
      ]
     },
     "execution_count": 41,
     "metadata": {},
     "output_type": "execute_result"
    }
   ],
   "source": [
    "model.fit(X,Y,epochs=10, batch_size=32)"
   ]
  },
  {
   "cell_type": "code",
   "execution_count": 45,
   "id": "83b1c7a8-d7a8-4b04-a0c3-aba1732ddc85",
   "metadata": {},
   "outputs": [
    {
     "name": "stdout",
     "output_type": "stream",
     "text": [
      "\u001b[1m16/16\u001b[0m \u001b[32m━━━━━━━━━━━━━━━━━━━━\u001b[0m\u001b[37m\u001b[0m \u001b[1m0s\u001b[0m 2ms/step \n"
     ]
    },
    {
     "data": {
      "text/plain": [
       "array([12.842777 , 13.548743 , 13.044265 , 13.066717 , 13.168621 ,\n",
       "       12.432767 , 12.616645 , 13.367406 , 13.197748 , 13.044163 ,\n",
       "       12.971672 , 13.4154005, 13.168337 , 12.751028 , 13.413558 ,\n",
       "       12.791847 , 12.923892 , 13.456667 , 12.853539 , 12.784477 ,\n",
       "       13.141315 , 13.022276 , 12.985098 , 13.3720875, 13.068772 ,\n",
       "       13.095125 , 13.177227 , 13.239889 , 13.395403 , 13.24628  ,\n",
       "       13.05652  , 13.401947 , 13.134251 , 13.392863 , 13.559721 ,\n",
       "       13.412638 , 12.400832 , 13.018222 , 13.0539255, 13.186061 ,\n",
       "       12.927345 , 13.031696 , 12.420811 , 12.991773 , 12.562617 ,\n",
       "       12.777084 , 13.057133 , 13.044265 , 12.817457 , 13.497973 ,\n",
       "       13.367406 , 13.330048 , 13.276699 , 13.001739 , 13.261492 ,\n",
       "       13.162958 , 13.237228 , 13.550408 , 12.835573 , 12.72247  ,\n",
       "       13.497973 , 13.268479 , 13.3720875, 13.229362 , 13.4154005,\n",
       "       12.440725 , 12.951344 , 12.720907 , 13.08643  , 13.12914  ,\n",
       "       13.324209 , 13.314307 , 13.260952 , 13.034546 , 12.839178 ,\n",
       "       12.585857 , 13.231886 , 13.3720875, 13.218422 , 13.215088 ,\n",
       "       13.182665 , 13.570728 , 13.041286 , 13.001739 , 13.276485 ,\n",
       "       12.895863 , 12.535352 , 12.892535 , 12.639582 , 12.558733 ,\n",
       "       13.465718 , 13.11686  , 13.343674 , 13.174271 , 12.920433 ,\n",
       "       13.378931 , 12.961536 , 13.448709 , 12.867805 , 13.606197 ,\n",
       "       13.471369 , 13.0699   , 12.839178 , 13.284168 , 13.170387 ,\n",
       "       13.413172 , 13.204798 , 13.679256 , 12.41682  , 12.954634 ,\n",
       "       13.003254 , 13.268746 , 12.736012 , 13.338521 , 13.188236 ,\n",
       "       12.96954  , 13.138281 , 12.404833 , 13.467586 , 12.958145 ,\n",
       "       13.177067 , 12.881973 , 14.128151 , 13.028035 , 13.028035 ,\n",
       "       12.867805 , 13.031696 , 12.535352 , 13.041031 , 13.413172 ,\n",
       "       13.412638 , 12.916967 , 13.223055 , 12.934005 , 12.774153 ,\n",
       "       13.266154 , 13.001739 , 13.188236 , 12.998424 , 13.301878 ,\n",
       "       13.047491 , 12.543158 , 13.515869 , 13.69134  , 12.924237 ,\n",
       "       12.941096 , 12.867094 , 13.363383 , 13.675337 , 12.707547 ,\n",
       "       13.304384 , 13.019123 , 12.5197   , 12.846371 , 13.22652  ,\n",
       "       12.896044 , 13.066717 , 12.492191 , 12.368746 , 13.215687 ,\n",
       "       12.927345 , 13.21571  , 12.974265 , 12.944518 , 13.509951 ,\n",
       "       13.154414 , 13.044163 , 12.440725 , 12.736012 , 12.813816 ,\n",
       "       13.442311 , 13.263556 , 13.390577 , 12.951344 , 12.947934 ,\n",
       "       13.018222 , 13.185453 , 12.867805 , 13.037943 , 13.206448 ,\n",
       "       12.720907 , 12.570377 , 13.27417  , 13.26854  , 13.304384 ,\n",
       "       13.454545 , 13.202053 , 13.018222 , 13.140045 , 13.579766 ,\n",
       "       12.871356 , 12.903043 , 13.107584 , 13.533347 , 12.944518 ,\n",
       "       12.998424 , 13.185453 , 13.255724 , 13.439537 , 12.831962 ,\n",
       "       13.604441 , 13.583348 , 13.439098 , 13.413558 , 13.345564 ,\n",
       "       12.733618 , 13.475521 , 13.36034  , 12.802858 , 13.374419 ,\n",
       "       13.511929 , 12.758501 , 13.160063 , 13.034546 , 12.452644 ,\n",
       "       12.964921 , 12.871356 , 13.678045 , 13.060334 , 12.547056 ,\n",
       "       13.12914  , 12.640161 , 12.892535 , 13.409557 , 13.271226 ,\n",
       "       13.548349 , 12.817457 , 13.675337 , 13.441697 , 12.780784 ,\n",
       "       13.225499 , 12.713322 , 13.299367 , 13.697284 , 12.810169 ,\n",
       "       12.913495 , 12.934233 , 12.758501 , 13.014938 , 13.223672 ,\n",
       "       13.268479 , 12.982083 , 13.294325 , 13.104886 , 13.088857 ,\n",
       "       12.988439 , 12.961536 , 12.692557 , 13.601572 , 13.137152 ,\n",
       "       12.864247 , 13.024771 , 13.692404 , 12.49613  , 13.279427 ,\n",
       "       12.720907 , 12.927345 , 13.341237 , 13.041031 , 13.174271 ,\n",
       "       12.237789 , 13.319288 , 13.412638 , 13.206448 , 12.484304 ,\n",
       "       12.408831 , 13.309798 , 12.991773 , 12.616645 , 13.0539255,\n",
       "       13.496966 , 13.044548 , 13.62425  , 13.268746 , 13.083937 ,\n",
       "       13.353221 , 13.154414 , 13.12608  , 13.076244 , 13.150381 ,\n",
       "       12.937668 , 12.384808 , 12.726191 , 12.944518 , 13.457398 ,\n",
       "       13.342993 , 13.047491 , 12.867805 , 12.7322445, 12.408831 ,\n",
       "       12.4447   , 13.350506 , 13.23456  , 12.934233 , 12.899547 ,\n",
       "       12.842777 , 13.0215   , 13.229362 , 12.49613  , 12.857115 ,\n",
       "       12.947934 , 13.431325 , 13.223826 , 12.988439 , 12.954747 ,\n",
       "       13.011647 , 13.242544 , 13.034823 , 12.813816 , 13.644654 ,\n",
       "       13.607891 , 12.539257 , 13.354649 , 13.307552 , 12.936295 ,\n",
       "       12.408831 , 12.688799 , 13.095125 , 13.46197  , 13.107853 ,\n",
       "       12.958145 , 13.329103 , 13.439098 , 12.810169 , 13.191012 ,\n",
       "       13.3556   , 12.472452 , 13.0539255, 12.368746 , 12.620478 ,\n",
       "       12.810525 , 13.2211275, 13.131344 , 12.927116 , 12.964921 ,\n",
       "       13.047491 , 13.271332 , 13.202053 , 13.517832 , 13.2531   ,\n",
       "       12.860684 , 12.503999 , 12.896044 , 13.311864 , 13.314276 ,\n",
       "       13.141315 , 13.041031 , 13.031294 , 13.2531   , 12.585857 ,\n",
       "       12.464538 , 13.493938 , 13.185453 , 12.488249 , 13.140045 ,\n",
       "       13.060334 , 13.449051 , 12.570377 , 13.260952 , 13.197748 ,\n",
       "       13.332649 , 13.260952 , 12.903043 , 12.698082 , 12.788165 ,\n",
       "       12.831962 , 13.3913145, 12.985098 , 12.835573 , 13.306883 ,\n",
       "       12.806517 , 12.813816 , 13.324489 , 13.593979 , 12.913495 ,\n",
       "       12.692557 , 12.8855   , 12.860684 , 13.25743  , 12.930792 ,\n",
       "       13.160116 , 13.071488 , 12.867805 , 12.523618 , 12.424798 ,\n",
       "       13.162376 , 12.488249 , 12.472452 , 13.662205 , 12.947934 ,\n",
       "       13.592219 , 13.38599  , 13.113765 , 13.015963 , 13.018222 ,\n",
       "       12.464538 , 13.212214 , 13.58156  , 13.341237 , 12.860684 ,\n",
       "       13.255724 , 13.309377 , 12.404833 , 13.083937 , 13.353238 ,\n",
       "       12.368746 , 12.860684 , 12.880207 , 12.799663 , 13.098249 ,\n",
       "       12.739775 , 12.899547 , 13.177067 , 12.867805 , 13.576165 ,\n",
       "       13.237228 , 13.041031 , 12.777084 , 13.869021 , 13.185453 ,\n",
       "       13.230011 , 13.519804 , 13.397417 , 12.539257 , 13.454545 ,\n",
       "       12.871356 , 13.299367 , 13.165792 , 12.954747 , 12.864247 ,\n",
       "       13.3556   , 13.185453 , 13.2211275, 12.847089 , 12.985098 ,\n",
       "       13.287094 , 12.643391 , 13.168621 , 12.867805 , 12.849958 ,\n",
       "       12.799193 , 13.395143 , 13.586911 , 13.273911 , 13.48645  ,\n",
       "       13.0285635, 13.446002 , 12.728472 , 13.165792 , 12.995101 ,\n",
       "       13.066717 , 12.964921 , 13.762678 , 12.828344 , 13.291795 ,\n",
       "       12.539257 , 13.268746 , 13.3720875, 13.397417 , 12.488249 ,\n",
       "       12.842777 , 13.542879 , 13.94987  , 12.716358 , 13.442956 ,\n",
       "       13.107584 , 13.321752 , 13.168621 , 12.846371 , 13.229206 ,\n",
       "       12.853539 , 13.821998 , 13.395143 , 13.0699   , 13.495958 ,\n",
       "       12.570377 , 12.975038 , 12.127921 , 12.920433 , 13.235026 ,\n",
       "       13.731612 , 12.566499 , 13.548743 , 13.11994  , 13.326659 ,\n",
       "       12.4447   , 13.42865  , 13.218422 , 13.527567 , 13.323166 ,\n",
       "       13.12914  , 13.107853 , 13.332649 , 12.713322 , 13.441697 ,\n",
       "       13.68074  , 12.853539 , 13.047491 , 12.7322445], dtype=float32)"
      ]
     },
     "execution_count": 45,
     "metadata": {},
     "output_type": "execute_result"
    }
   ],
   "source": [
    "model.predict(X)[:,0]"
   ]
  }
 ],
 "metadata": {
  "kernelspec": {
   "display_name": "Python 3 (ipykernel)",
   "language": "python",
   "name": "python3"
  },
  "language_info": {
   "codemirror_mode": {
    "name": "ipython",
    "version": 3
   },
   "file_extension": ".py",
   "mimetype": "text/x-python",
   "name": "python",
   "nbconvert_exporter": "python",
   "pygments_lexer": "ipython3",
   "version": "3.12.4"
  }
 },
 "nbformat": 4,
 "nbformat_minor": 5
}
